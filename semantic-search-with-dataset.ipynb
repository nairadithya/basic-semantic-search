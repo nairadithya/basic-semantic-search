{
 "cells": [
  {
   "cell_type": "code",
   "execution_count": null,
   "id": "36c3efd7-c071-4115-9c9b-6ebcb3499732",
   "metadata": {
    "editable": true,
    "slideshow": {
     "slide_type": ""
    },
    "tags": []
   },
   "outputs": [],
   "source": [
    "import ipywidgets as widgets\n",
    "import pandas as pd\n",
    "\n",
    "df = pd.read_csv(\"hf://datasets/nairadithya/dictionary-embeddings/dictionary_embeddings.csv\")"
   ]
  },
  {
   "cell_type": "code",
   "execution_count": 2,
   "id": "fc41d2c8-4098-4c1f-874d-bacf5ed44205",
   "metadata": {},
   "outputs": [
    {
     "data": {
      "text/html": [
       "<div>\n",
       "<style scoped>\n",
       "    .dataframe tbody tr th:only-of-type {\n",
       "        vertical-align: middle;\n",
       "    }\n",
       "\n",
       "    .dataframe tbody tr th {\n",
       "        vertical-align: top;\n",
       "    }\n",
       "\n",
       "    .dataframe thead th {\n",
       "        text-align: right;\n",
       "    }\n",
       "</style>\n",
       "<table border=\"1\" class=\"dataframe\">\n",
       "  <thead>\n",
       "    <tr style=\"text-align: right;\">\n",
       "      <th></th>\n",
       "      <th>word</th>\n",
       "      <th>definition</th>\n",
       "      <th>combined</th>\n",
       "      <th>embeddings</th>\n",
       "    </tr>\n",
       "  </thead>\n",
       "  <tbody>\n",
       "    <tr>\n",
       "      <th>0</th>\n",
       "      <td>a</td>\n",
       "      <td>the first letter of the english and of many ot...</td>\n",
       "      <td>a\\nthe first letter of the english and of many...</td>\n",
       "      <td>[ 2.37133000e-02 -3.17167878e-01 -2.48876572e-...</td>\n",
       "    </tr>\n",
       "    <tr>\n",
       "      <th>1</th>\n",
       "      <td>a 1</td>\n",
       "      <td>a registry mark given by underwriters (as at l...</td>\n",
       "      <td>a 1\\na registry mark given by underwriters (as...</td>\n",
       "      <td>[-1.01555869e-01 -3.75581115e-01 -7.97937065e-...</td>\n",
       "    </tr>\n",
       "    <tr>\n",
       "      <th>2</th>\n",
       "      <td>a b c</td>\n",
       "      <td>the first three letters of the alphabet, used ...</td>\n",
       "      <td>a b c\\nthe first three letters of the alphabet...</td>\n",
       "      <td>[ 4.80708890e-02 -4.60086673e-01 -2.20653921e-...</td>\n",
       "    </tr>\n",
       "    <tr>\n",
       "      <th>3</th>\n",
       "      <td>a cappella</td>\n",
       "      <td>in church or chapel style; -- said of composit...</td>\n",
       "      <td>a cappella\\nin church or chapel style; -- said...</td>\n",
       "      <td>[-5.51898479e-02 -4.09771532e-01 -1.09757498e-...</td>\n",
       "    </tr>\n",
       "    <tr>\n",
       "      <th>4</th>\n",
       "      <td>a fortiori</td>\n",
       "      <td>with stronger reason.</td>\n",
       "      <td>a fortiori\\nwith stronger reason.</td>\n",
       "      <td>[-1.60634443e-01 -4.92439307e-02 -2.68231601e-...</td>\n",
       "    </tr>\n",
       "  </tbody>\n",
       "</table>\n",
       "</div>"
      ],
      "text/plain": [
       "         word                                         definition  \\\n",
       "0           a  the first letter of the english and of many ot...   \n",
       "1         a 1  a registry mark given by underwriters (as at l...   \n",
       "2       a b c  the first three letters of the alphabet, used ...   \n",
       "3  a cappella  in church or chapel style; -- said of composit...   \n",
       "4  a fortiori                              with stronger reason.   \n",
       "\n",
       "                                            combined  \\\n",
       "0  a\\nthe first letter of the english and of many...   \n",
       "1  a 1\\na registry mark given by underwriters (as...   \n",
       "2  a b c\\nthe first three letters of the alphabet...   \n",
       "3  a cappella\\nin church or chapel style; -- said...   \n",
       "4                  a fortiori\\nwith stronger reason.   \n",
       "\n",
       "                                          embeddings  \n",
       "0  [ 2.37133000e-02 -3.17167878e-01 -2.48876572e-...  \n",
       "1  [-1.01555869e-01 -3.75581115e-01 -7.97937065e-...  \n",
       "2  [ 4.80708890e-02 -4.60086673e-01 -2.20653921e-...  \n",
       "3  [-5.51898479e-02 -4.09771532e-01 -1.09757498e-...  \n",
       "4  [-1.60634443e-01 -4.92439307e-02 -2.68231601e-...  "
      ]
     },
     "execution_count": 2,
     "metadata": {},
     "output_type": "execute_result"
    }
   ],
   "source": [
    "df.head()"
   ]
  },
  {
   "cell_type": "code",
   "execution_count": null,
   "id": "5ba018b7-49a2-4a79-8f29-ee0d87a9073b",
   "metadata": {
    "editable": true,
    "slideshow": {
     "slide_type": ""
    },
    "tags": []
   },
   "outputs": [],
   "source": [
    "from datasets import Dataset\n",
    "embeddings_dataset = Dataset.from_pandas(df)"
   ]
  },
  {
   "cell_type": "code",
   "execution_count": null,
   "id": "6160acb2-e23d-4f56-a0ff-46ffe4cb2482",
   "metadata": {
    "editable": true,
    "slideshow": {
     "slide_type": ""
    },
    "tags": []
   },
   "outputs": [],
   "source": [
    "def get_result(query):\n",
    "  question_embedding = get_embeddings([query]).cpu().detach().numpy()\n",
    "  scores, samples = embeddings_dataset.get_nearest_examples(\"embeddings\", question_embedding, k=5)\n",
    "\n",
    "  samples_df = pd.DataFrame.from_dict(samples)\n",
    "  samples_df[\"scores\"] = scores\n",
    "  samples_df.sort_values(\"scores\", ascending=False, inplace=True)\n",
    "\n",
    "  for _, row in samples_df.iterrows():\n",
    "      print(f\"word: {row.word}\")\n",
    "      print(f\"SCORE: {row.scores}\")\n",
    "      print(f\"definition: {row.definition}\")\n",
    "      print(\"=\" * 50)\n",
    "      print()"
   ]
  },
  {
   "cell_type": "code",
   "execution_count": 30,
   "id": "c81d1d17-0627-456f-a9b1-e34c2f3e2ddf",
   "metadata": {},
   "outputs": [
    {
     "data": {
      "application/vnd.jupyter.widget-view+json": {
       "model_id": "4621753aba454a258d28b7e44f5fd3df",
       "version_major": 2,
       "version_minor": 0
      },
      "text/plain": [
       "Text(value='', continuous_update=False, placeholder=\"Type in your search query and press 'Enter'\")"
      ]
     },
     "metadata": {},
     "output_type": "display_data"
    }
   ],
   "source": [
    "import ipywidgets as widgets\n",
    "def f1(SearchQuery):\n",
    "    print(SearchQuery)\n",
    "question = widgets.Text(\n",
    "    value = '',\n",
    "    placeholder = 'Type in your search query and press \\'Enter\\'',\n",
    "    continuous_update=False,\n",
    ")\n",
    "\n",
    "display(question)"
   ]
  }
 ],
 "metadata": {
  "kernelspec": {
   "display_name": "Python 3 (ipykernel)",
   "language": "python",
   "name": "python3"
  },
  "language_info": {
   "codemirror_mode": {
    "name": "ipython",
    "version": 3
   },
   "file_extension": ".py",
   "mimetype": "text/x-python",
   "name": "python",
   "nbconvert_exporter": "python",
   "pygments_lexer": "ipython3",
   "version": "3.12.7"
  }
 },
 "nbformat": 4,
 "nbformat_minor": 5
}
